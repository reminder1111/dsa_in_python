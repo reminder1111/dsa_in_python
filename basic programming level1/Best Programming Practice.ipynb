{
 "cells": [
  {
   "cell_type": "markdown",
   "id": "c820f26b",
   "metadata": {},
   "source": [
    "Sample Program 1 - Write a program to display Sam with Roll Number 1, Percent Marks 99.99, and the result ‘P’ indicates Pass(‘P’) or Fail (‘F’)."
   ]
  },
  {
   "cell_type": "code",
   "execution_count": 1,
   "id": "505e3f78",
   "metadata": {},
   "outputs": [
    {
     "name": "stdout",
     "output_type": "stream",
     "text": [
      "Displaying Result:\n",
      "sam with Roll Number 1 has scored 99.99% marks and Result is P\n"
     ]
    }
   ],
   "source": [
    "# Creating a class named DisplayResult to indicate the purpose is to display the result\n",
    "class DisplayResult:\n",
    "    def main():\n",
    "        name = \"sam\"     #String variable tO store name \n",
    "        roll_number = 1    #int variable to store roll no.\n",
    "        percent_marks = 99.99  #float var to store percentage\n",
    "        result = 'P'    #char var to store 'p' for pass\n",
    "        \n",
    "        #Display the result\n",
    "        print(f\"Displaying Result:\\n{name} with Roll Number {roll_number} has scored {percent_marks}% marks and Result is {result}\")\n",
    "        \n",
    "#calling the main function\n",
    "DisplayResult.main()\n",
    "        "
   ]
  },
  {
   "cell_type": "markdown",
   "id": "cb81d3e9",
   "metadata": {},
   "source": [
    "Sample Program 2 - Eric Travels from Chennai to Bangalore via Vellore. From Chennai to Vellore distance is 156.6 km and the time taken is 4 Hours and 4 Mins and from Vellore to Bangalore is 211.8 km and will take 4 Hours and 25 Mins. Compute the total distance and total time from Chennai to Bangalore"
   ]
  },
  {
   "cell_type": "code",
   "execution_count": 4,
   "id": "20411b5b",
   "metadata": {},
   "outputs": [
    {
     "name": "stdout",
     "output_type": "stream",
     "text": [
      "The total distacnce travelled by Eric from city Chennai to Bangalore via Vellore is 368.4 km  and total time is 509 minute \n"
     ]
    }
   ],
   "source": [
    "class TravelComputation:\n",
    "    def main():\n",
    "        name = \"Eric\"\n",
    "        from_city = \"Chennai\"\n",
    "        via_city = \"Vellore\"\n",
    "        to_city = \"Bangalore\"\n",
    "        \n",
    "        distance_from_to_via = 156.6\n",
    "        time_from_to_via = 4*60+4\n",
    "        \n",
    "        distance_via_to_final = 211.8\n",
    "        time_via_to_final = 4*60+25\n",
    "        \n",
    "        total_distance = distance_from_to_via + distance_via_to_final\n",
    "        total_time = time_from_to_via + time_via_to_final\n",
    "        \n",
    "        print(f\"The total distacnce travelled by {name} from city {from_city} to {to_city} via {via_city} is {total_distance} km \"\n",
    "              f\" and total time is {total_time} minute \")\n",
    "              \n",
    "TravelComputation.main()\n",
    "        "
   ]
  },
  {
   "cell_type": "markdown",
   "id": "7e03ef45",
   "metadata": {},
   "source": [
    "1. Write a program to find the age of Harry if the birth year is 2000. Assume the Current Year is 2024"
   ]
  },
  {
   "cell_type": "code",
   "execution_count": 5,
   "id": "86315255",
   "metadata": {},
   "outputs": [
    {
     "name": "stdout",
     "output_type": "stream",
     "text": [
      "24\n"
     ]
    }
   ],
   "source": [
    "class DisplayAge:\n",
    "    def main():\n",
    "        birthYear = 2000\n",
    "        currentYear = 2024\n",
    "        age = currentYear - birthYear\n",
    "        print(age)\n",
    "DisplayAge.main()\n",
    "        "
   ]
  },
  {
   "cell_type": "markdown",
   "id": "8564c2b9",
   "metadata": {},
   "source": [
    "2. Sam’s mark in Maths is 94, Physics is 95 and Chemistry is 96 out of 100. Find the average percent mark in PCM"
   ]
  },
  {
   "cell_type": "code",
   "execution_count": 6,
   "id": "d5c2aac4",
   "metadata": {},
   "outputs": [
    {
     "name": "stdout",
     "output_type": "stream",
     "text": [
      "95.0\n"
     ]
    }
   ],
   "source": [
    "class Average:\n",
    "    def main():\n",
    "        math_marks = 94\n",
    "        physics_marks = 95\n",
    "        chemistry_marks = 96\n",
    "        avg = (math_marks + physics_marks + chemistry_marks)/3\n",
    "        print(avg)\n",
    "Average.main()"
   ]
  },
  {
   "cell_type": "markdown",
   "id": "b63295f7",
   "metadata": {},
   "source": [
    "3. Create a program to convert the distance of 10.8 kilometers to miles.Hint: 1 km = 1.6 miles"
   ]
  },
  {
   "cell_type": "code",
   "execution_count": 5,
   "id": "d8c17443",
   "metadata": {},
   "outputs": [
    {
     "name": "stdout",
     "output_type": "stream",
     "text": [
      "The distance 10.8 km in miles is 6.75\n"
     ]
    }
   ],
   "source": [
    " class converter:\n",
    "    def main():\n",
    "        kilo_meter = 10.8\n",
    "        #1km = 1.6miles\n",
    "        miles = kilo_meter/1.6\n",
    "        print(f\"The distance {kilo_meter} km in miles is {miles}\")\n",
    "converter.main()"
   ]
  },
  {
   "cell_type": "markdown",
   "id": "d32d8d9a",
   "metadata": {},
   "source": [
    "4. Create a program to calculate the profit and loss in number and percentage based on the cost price of INR 129 and the selling price of INR 191.\n",
    "Hint =>\n",
    "a. Use a single print statement to display multiline text and variables.\n",
    "b. Profit = selling price - cost price\n",
    "c. Profit Percentage = profit / cost price * 100\n",
    "I/P => NONE\n",
    "O/P =>\n",
    "The Cost Price is INR ___ and Selling Price is INR ___\n",
    "The Profit is INR ___ and the Profit Percentage is ___"
   ]
  },
  {
   "cell_type": "code",
   "execution_count": 10,
   "id": "d4126746",
   "metadata": {},
   "outputs": [
    {
     "name": "stdout",
     "output_type": "stream",
     "text": [
      "The cost price is INR 129 and Selling Price is INR 191. The Profit is INR 62 and the Profit Percentage is 48.06%\n"
     ]
    }
   ],
   "source": [
    "class calculatePnL:\n",
    "    def main():\n",
    "        cost_price = 129\n",
    "        selling_price = 191\n",
    "        profit = (selling_price - cost_price)  \n",
    "        profit_percentage = (profit / cost_price) * 100.0  \n",
    "        print(f\"The cost price is INR {cost_price} and Selling Price is INR {selling_price}. The Profit is INR {profit} and the Profit Percentage is {profit_percentage:.2f}%\")  # Added .2f for better formatting\n",
    "\n",
    "calculatePnL.main()\n"
   ]
  },
  {
   "cell_type": "markdown",
   "id": "cbad7d81",
   "metadata": {},
   "source": [
    "5. Suppose you have to divide 14 pens among 3 students equally. Write a program to find how many pens each student will get if the pens must be divided equally. Also, find the remaining non-distributed pens.\n",
    "Hint =>\n",
    "a. Use Modulus Operator (%) to find the reminder.\n",
    "b. Use Division Operator to find the Quantity of pens\n",
    "I/P => NONE\n",
    "O/P => The Pen Per Student is ___ and the remaining pen not distributed is ___"
   ]
  },
  {
   "cell_type": "code",
   "execution_count": 12,
   "id": "89b7bcfd",
   "metadata": {},
   "outputs": [
    {
     "name": "stdout",
     "output_type": "stream",
     "text": [
      "The Pen Per Student is 4 and the remaining pen not distributed is 2\n"
     ]
    }
   ],
   "source": [
    "class distribution:\n",
    "    def main():\n",
    "        total_pen = 14\n",
    "        total_student = 3\n",
    "        pens_per_student = total_pen // total_student\n",
    "        remaining_pens = total_pen % total_student\n",
    "        print(f\"The Pen Per Student is {pens_per_student} and the remaining pen not distributed is {remaining_pens}\")\n",
    "\n",
    "distribution.main()\n",
    "\n",
    "        "
   ]
  },
  {
   "cell_type": "markdown",
   "id": "85f1a7f1",
   "metadata": {},
   "source": [
    "6. The University is charging the student a fee of INR 125000 for the course. The University is willing to offer a discount of 10%. Write a program to find the discounted amount and discounted price the student will pay for the course.\n",
    "Hint =>\n",
    "a. Create a variable named fee and assign 125000 to it.\n",
    "b. Create another variable discountPercent and assign 10 to it.\n",
    "c. Compute discount and assign it to the discount variable.\n",
    "d. Compute and print the fee you have to pay by subtracting the discount from the fee.\n",
    "O/P => The discount amount is INR ___ and final discounted fee is INR ___"
   ]
  },
  {
   "cell_type": "code",
   "execution_count": 13,
   "id": "6c2039bc",
   "metadata": {
    "scrolled": true
   },
   "outputs": [
    {
     "name": "stdout",
     "output_type": "stream",
     "text": [
      "The discount amount is INR 12500.0 and final discounted fee is INR 112500.0\n"
     ]
    }
   ],
   "source": [
    "class coursefees:\n",
    "    def main():\n",
    "        fee = 125000\n",
    "        discount_Percent = 10\n",
    "        discount = fee/discount_Percent\n",
    "        discount_amount = discount\n",
    "        discount_price = fee - discount\n",
    "        print(f\"The discount amount is INR {discount_amount} and final discounted fee is INR {discount_price}\")\n",
    "        \n",
    "coursefees.main()"
   ]
  },
  {
   "cell_type": "markdown",
   "id": "dd01bf70",
   "metadata": {},
   "source": [
    "7. Write a Program to compute the volume of Earth in km^3 and miles^3\n",
    "Hint => Volume of a Sphere is (4/3) * pi * r^3 and radius of earth is 6378 km\n",
    "O/P => The volume of earth in cubic kilometers is ____ and cubic miles is ____"
   ]
  },
  {
   "cell_type": "code",
   "execution_count": 15,
   "id": "0269ae66",
   "metadata": {},
   "outputs": [
    {
     "name": "stdout",
     "output_type": "stream",
     "text": [
      "The volume of Earth in cubic kilometers is 1086781292542.89 and in cubic miles is 260732455872.69\n"
     ]
    }
   ],
   "source": [
    "import math\n",
    "\n",
    "class EarthVolume:\n",
    "    def main():\n",
    "        # Radius of Earth in kilometers\n",
    "        radius_km = 6378\n",
    "        \n",
    "        # Conversion factor from kilometers to miles\n",
    "        km_to_miles = 0.621371\n",
    "        \n",
    "        # Volume formula for a sphere\n",
    "        volume_km3 = (4 / 3) * math.pi * (radius_km ** 3)  # Volume in cubic kilometers\n",
    "        volume_miles3 = volume_km3 * (km_to_miles ** 3)    # Convert to cubic miles\n",
    "        \n",
    "        print(f\"The volume of Earth in cubic kilometers is {volume_km3:.2f} and in cubic miles is {volume_miles3:.2f}\")\n",
    "        \n",
    "EarthVolume.main()\n"
   ]
  },
  {
   "cell_type": "markdown",
   "id": "b7c101f8",
   "metadata": {},
   "source": [
    "8. Create a program to convert distance in kilometers to miles.\n",
    "Hint =>\n",
    "a. Create a variable km and assign type as double as in double km;\n",
    "b. Create Scanner Object to take user input from Standard Input that is the Keyboard as in Scanner input = new Scanner(System.in);\n",
    "c. Use Scanner Object to take user input for km as in km = input.nextInt();\n",
    "d. Use 1 mile = 1.6 km formulae to calculate miles and show the output\n",
    "I/P => km\n",
    "O/P => The total miles is ___ mile for the given ___ km"
   ]
  },
  {
   "cell_type": "code",
   "execution_count": 16,
   "id": "3ce7d856",
   "metadata": {},
   "outputs": [
    {
     "name": "stdout",
     "output_type": "stream",
     "text": [
      "Enter kilometers: 20\n",
      "The total miles is 12.43 miles for the given 20.00 km.\n"
     ]
    }
   ],
   "source": [
    "class ConvertKmToMiles:\n",
    "    def main():\n",
    "        # Input: Distance in kilometers\n",
    "        km = float(input(\"Enter kilometers: \"))\n",
    "        \n",
    "        # Conversion factor: 1 kilometer = 0.621371 miles\n",
    "        miles = km * 0.621371\n",
    "        \n",
    "        # Output the result\n",
    "        print(f\"The total miles is {miles:.2f} miles for the given {km:.2f} km.\")\n",
    "        \n",
    "ConvertKmToMiles.main()"
   ]
  },
  {
   "cell_type": "code",
   "execution_count": null,
   "id": "e4298918",
   "metadata": {},
   "outputs": [],
   "source": []
  }
 ],
 "metadata": {
  "kernelspec": {
   "display_name": "Python 3 (ipykernel)",
   "language": "python",
   "name": "python3"
  },
  "language_info": {
   "codemirror_mode": {
    "name": "ipython",
    "version": 3
   },
   "file_extension": ".py",
   "mimetype": "text/x-python",
   "name": "python",
   "nbconvert_exporter": "python",
   "pygments_lexer": "ipython3",
   "version": "3.11.5"
  }
 },
 "nbformat": 4,
 "nbformat_minor": 5
}
