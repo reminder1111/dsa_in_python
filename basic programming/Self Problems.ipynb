{
 "cells": [
  {
   "cell_type": "markdown",
   "id": "9e423376",
   "metadata": {},
   "source": [
    "1. Calculate Simple Interest\n",
    "Write a program to calculate simple interest using the formula:\n",
    "Simple Interest = (Principal * Rate * Time) / 100.\n",
    "Take Principal, Rate, and Time as inputs from the user."
   ]
  },
  {
   "cell_type": "code",
   "execution_count": 6,
   "id": "2ba0382c",
   "metadata": {},
   "outputs": [
    {
     "name": "stdout",
     "output_type": "stream",
     "text": [
      "Enter p: 2\n",
      "Enter R: 3\n",
      "Enter T: 5\n",
      "0.3\n"
     ]
    }
   ],
   "source": [
    "p= float(input(\"Enter p: \"))\n",
    "R = float(input(\"Enter R: \"))\n",
    "T = float(input(\"Enter T: \"))\n",
    "S = (p*R*T/100)\n",
    "print(S)"
   ]
  },
  {
   "cell_type": "markdown",
   "id": "306e3058",
   "metadata": {},
   "source": [
    "#2. Perimeter of a Rectangle\n",
    "Write a program to calculate the perimeter of a rectangle. Take the length\n",
    "and width as inputs and use the formula:\n",
    "Perimeter = 2 * (length + width)."
   ]
  },
  {
   "cell_type": "code",
   "execution_count": 7,
   "id": "53704e09",
   "metadata": {},
   "outputs": [
    {
     "name": "stdout",
     "output_type": "stream",
     "text": [
      "Enter l: 2\n",
      "Enter b: 3\n",
      "10\n"
     ]
    }
   ],
   "source": [
    "l = int(input(\"Enter l: \"))\n",
    "b = int(input(\"Enter b: \"))\n",
    "perimeter = 2*(l+b)\n",
    "print(perimeter)"
   ]
  },
  {
   "cell_type": "markdown",
   "id": "a2e7d312",
   "metadata": {},
   "source": [
    "#3. Power Calculation\n",
    "Write a program that takes two numbers as input: a base and an exponent,\n",
    "and prints the result of base raised to the exponent (without using loops or\n",
    "conditionals)."
   ]
  },
  {
   "cell_type": "code",
   "execution_count": 1,
   "id": "93877d7c",
   "metadata": {},
   "outputs": [
    {
     "name": "stdout",
     "output_type": "stream",
     "text": [
      "Enter the value of base: 2\n",
      "Enter the value of exponent: 3\n",
      "8.0\n"
     ]
    }
   ],
   "source": [
    "base = float(input(\"Enter the value of base: \"))\n",
    "exponent = float(input(\"Enter the value of exponent: \"))\n",
    "result = base**exponent\n",
    "print(result)"
   ]
  },
  {
   "cell_type": "markdown",
   "id": "60ded59d",
   "metadata": {},
   "source": [
    "4. Calculate Average of Three Numbers\n",
    "Write a program that takes three numbers as input from the user and prints\n",
    "their average."
   ]
  },
  {
   "cell_type": "code",
   "execution_count": 2,
   "id": "fd5621fb",
   "metadata": {},
   "outputs": [
    {
     "name": "stdout",
     "output_type": "stream",
     "text": [
      "enter first no: 1\n",
      "enter second no: 2\n",
      "enter third no: 3\n",
      "2.0\n"
     ]
    }
   ],
   "source": [
    "num1 = float(input(\"enter first no: \"))\n",
    "num2 = float(input(\"enter second no: \"))\n",
    "num3 = float(input(\"enter third no: \"))\n",
    "Average = (num1+num2+num3)/3\n",
    "print(Average)"
   ]
  },
  {
   "cell_type": "markdown",
   "id": "94a075d8",
   "metadata": {},
   "source": [
    "5. Convert Kilometers to Miles\n",
    "Write a program that takes the distance in kilometers as input from the user\n",
    "and converts it into miles using the formula:\n",
    "Miles = Kilometers * 0.621371"
   ]
  },
  {
   "cell_type": "code",
   "execution_count": 3,
   "id": "03af8035",
   "metadata": {},
   "outputs": [
    {
     "name": "stdout",
     "output_type": "stream",
     "text": [
      "enter the distance in kilometers: 30\n",
      "18.64113\n"
     ]
    }
   ],
   "source": [
    "kilometers = float(input(\"enter the distance in kilometers: \"))\n",
    "miles = kilometers*0.621371\n",
    "print(miles)"
   ]
  }
 ],
 "metadata": {
  "kernelspec": {
   "display_name": "Python 3 (ipykernel)",
   "language": "python",
   "name": "python3"
  },
  "language_info": {
   "codemirror_mode": {
    "name": "ipython",
    "version": 3
   },
   "file_extension": ".py",
   "mimetype": "text/x-python",
   "name": "python",
   "nbconvert_exporter": "python",
   "pygments_lexer": "ipython3",
   "version": "3.11.5"
  }
 },
 "nbformat": 4,
 "nbformat_minor": 5
}
