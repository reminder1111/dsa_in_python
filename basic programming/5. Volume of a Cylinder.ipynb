{
 "cells": [
  {
   "cell_type": "markdown",
   "id": "880f4760",
   "metadata": {},
   "source": [
    "# Write a program to calculate the volume of a cylinder. Take the radius and height as inputs and use the formula:\n",
    "#Volume = π * radius^2 * height."
   ]
  },
  {
   "cell_type": "code",
   "execution_count": 2,
   "id": "5ad78430",
   "metadata": {},
   "outputs": [
    {
     "name": "stdout",
     "output_type": "stream",
     "text": [
      "Enter the value of radius: 2\n",
      "Enter the value of: 3\n",
      "37.68\n"
     ]
    }
   ],
   "source": [
    "radius = float(input(\"Enter the value of radius: \"))\n",
    "height = float(input(\"Enter the value of: \"))\n",
    "pi = 3.14\n",
    "volume = pi* radius*radius*height\n",
    "print(volume)"
   ]
  },
  {
   "cell_type": "code",
   "execution_count": null,
   "id": "965e44b7",
   "metadata": {},
   "outputs": [],
   "source": []
  }
 ],
 "metadata": {
  "kernelspec": {
   "display_name": "Python 3 (ipykernel)",
   "language": "python",
   "name": "python3"
  },
  "language_info": {
   "codemirror_mode": {
    "name": "ipython",
    "version": 3
   },
   "file_extension": ".py",
   "mimetype": "text/x-python",
   "name": "python",
   "nbconvert_exporter": "python",
   "pygments_lexer": "ipython3",
   "version": "3.11.5"
  }
 },
 "nbformat": 4,
 "nbformat_minor": 5
}
