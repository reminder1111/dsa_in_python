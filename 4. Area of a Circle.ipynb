{
 "cells": [
  {
   "cell_type": "code",
   "execution_count": 1,
   "id": "d2d842c0",
   "metadata": {},
   "outputs": [],
   "source": [
    "#Write a program to calculate the area of a circle. Take the radius as input and use the formula:"
   ]
  },
  {
   "cell_type": "code",
   "execution_count": 2,
   "id": "f8aeb29f",
   "metadata": {},
   "outputs": [
    {
     "name": "stdout",
     "output_type": "stream",
     "text": [
      "Enter the value of radius: 3\n",
      "28.259999999999998\n"
     ]
    }
   ],
   "source": [
    "radius = float(input(\"Enter the value of radius: \"))\n",
    "pi = 3.14\n",
    "Area = pi * radius*radius\n",
    "print(Area)\n"
   ]
  },
  {
   "cell_type": "code",
   "execution_count": null,
   "id": "8175c711",
   "metadata": {},
   "outputs": [],
   "source": []
  }
 ],
 "metadata": {
  "kernelspec": {
   "display_name": "Python 3 (ipykernel)",
   "language": "python",
   "name": "python3"
  },
  "language_info": {
   "codemirror_mode": {
    "name": "ipython",
    "version": 3
   },
   "file_extension": ".py",
   "mimetype": "text/x-python",
   "name": "python",
   "nbconvert_exporter": "python",
   "pygments_lexer": "ipython3",
   "version": "3.11.5"
  }
 },
 "nbformat": 4,
 "nbformat_minor": 5
}
