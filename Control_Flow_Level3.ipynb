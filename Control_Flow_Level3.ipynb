{
 "cells": [
  {
   "cell_type": "markdown",
   "id": "f6f42258",
   "metadata": {},
   "source": [
    "1. Sample Program 1 - Create a program to check if 3 values are internal angles of a triangle.\n",
    "IMP => Follow Good Programming Practice demonstrated below in all Practice Programs\n",
    "Hint =>\n",
    "a. Get integer input for 3 variables named x, y, and z.\n",
    "b. Find the sum of x, y, and z.\n",
    "c. If the sum is equal to 180, print ”The given angles are internal angles of a triangle” else print They are not"
   ]
  },
  {
   "cell_type": "code",
   "execution_count": 2,
   "id": "a7a07c9d",
   "metadata": {},
   "outputs": [
    {
     "name": "stdout",
     "output_type": "stream",
     "text": [
      "enter the value of x: 50\n",
      "enter the value of y: 30\n",
      "enter the value of z: 20\n",
      "The given angles is not internal angles of a triangle\n"
     ]
    }
   ],
   "source": [
    "class TriangleChecker:\n",
    "    def main():\n",
    "        x = int(input(\"enter the value of x: \"))\n",
    "        y = int(input(\"enter the value of y: \"))\n",
    "        z = int(input(\"enter the value of z: \"))\n",
    "        \n",
    "        SumOfAngles = x+y+z\n",
    "        if(SumOfAngles==180):\n",
    "            print(f\"The given angles are internal angles of a triangle\")\n",
    "        else:\n",
    "            print(f\"The given angles is not internal angles of a triangle\")\n",
    "            \n",
    "TriangleChecker.main()"
   ]
  },
  {
   "cell_type": "markdown",
   "id": "e1181936",
   "metadata": {},
   "source": [
    "2. Sample Program 2 - Create a program to find the sum of all the digits of a number given by a user.\n",
    "Hint =>\n",
    "a. Get an integer input for the number variable.\n",
    "b. Create an integer variable sum with an initial value of 0.\n",
    "c. Create a while loop to access each digit of the number.\n",
    "d. Inside the loop, add each digit of the number to the sum.\n",
    "e. Finally, print the sum outside the loop"
   ]
  },
  {
   "cell_type": "code",
   "execution_count": 4,
   "id": "15e5665c",
   "metadata": {},
   "outputs": [
    {
     "name": "stdout",
     "output_type": "stream",
     "text": [
      "enter the value of number: 1234\n",
      "The sum of the digits is 10\n"
     ]
    }
   ],
   "source": [
    "class SumOfDigits:\n",
    "    def main():\n",
    "        number= int(input(\"enter the value of number: \"))\n",
    "        sum_of_digits = 0\n",
    "        while number>0:\n",
    "            digit = number % 10 # Extract the last digit\n",
    "            sum_of_digits += digit\n",
    "            number //= 10  # Remove the last digit\n",
    "        print(f\"The sum of the digits is {sum_of_digits}\")\n",
    "        \n",
    "SumOfDigits.main()"
   ]
  },
  {
   "cell_type": "markdown",
   "id": "df284cc8",
   "metadata": {},
   "source": [
    "1. Create a program to check if a number is Armstrong or not. Use the hints to show the steps clearly in the code\n",
    "Hint =>\n",
    "a. Armstrong Number is a number whose Sum of cubes of each digit results in the original number e.g. 153 = 1^3 + 5^3 + 3^3\n",
    "b. Get an integer input and store it in the number variable define sum variable, initialize it to zero and originalNumber variable, and assign it to the input number variable c. Use the while loop till the originalNumber is not equal to zero d. In the while loop find the reminder number by using the modulus operator as in number % 10. Find the cube of the number and add it to the sum variable\n",
    "e. Again in while loop find the quotient of the number and assign it to the original number using number / 10 expression. This romoves the last digit of the original number.\n",
    "f. Finally check if the number and the sum are the same, if same its an Armstrong number else not. So display accordingly"
   ]
  },
  {
   "cell_type": "code",
   "execution_count": 6,
   "id": "74be47a8",
   "metadata": {},
   "outputs": [
    {
     "name": "stdout",
     "output_type": "stream",
     "text": [
      "enter the no: 153\n",
      "153 is an Armstrong number.\n"
     ]
    }
   ],
   "source": [
    "class ArmstrongNo:\n",
    "    def main():\n",
    "        number = int(input(\"enter the no: \"))\n",
    "        sum_of_cubes = 0\n",
    "        original_number = number\n",
    "        while(original_number !=0):\n",
    "            digit = original_number % 10 # Get the last digit\n",
    "            sum_of_cubes += digit ** 3   \n",
    "            original_number //= 10  # Remove the last digit\n",
    "            \n",
    "        if sum_of_cubes == number:\n",
    "            print(f\"{number} is an Armstrong number.\")\n",
    "        else:\n",
    "            print(f\"{number} is not an Armstrong number.\")\n",
    "            \n",
    "ArmstrongNo.main()\n",
    "            \n",
    "        \n",
    "        "
   ]
  },
  {
   "cell_type": "markdown",
   "id": "fea48939",
   "metadata": {},
   "source": [
    "2. Create a program to count the number of digits in an integer.\n",
    "Hint =>\n",
    "a. Get an integer input for the number variable.\n",
    "b. Create an integer variable count with value 0.\n",
    "c. Use a loop to iterate until number is not equal to 0.\n",
    "d. Remove the last digit from number in each iteration\n",
    "e. Increase count by 1 in each iteration.\n",
    "f. Finally display the count to show the number of digits"
   ]
  },
  {
   "cell_type": "code",
   "execution_count": 8,
   "id": "878ff35f",
   "metadata": {},
   "outputs": [
    {
     "name": "stdout",
     "output_type": "stream",
     "text": [
      "enter the no: 12345\n",
      "The total number of digits is: 5\n"
     ]
    }
   ],
   "source": [
    "number = int(input(\"enter the no: \"))\n",
    "count = 0\n",
    "while number !=0:\n",
    "    number = number // 10  # Remove the last digit\n",
    "    count +=1     # Increment the count\n",
    "\n",
    "print(\"The total number of digits is:\", count)"
   ]
  },
  {
   "cell_type": "markdown",
   "id": "f93a0840",
   "metadata": {},
   "source": [
    "3. Create a program to check if a number taken from the user is a Harshad Number.\n",
    "Hint =>\n",
    "a. A Harshad number is an integer which is divisible by the sum of its digits.\n",
    "For example, 21 which is perfectly divided by 3 (sum of digits: 2 + 1).\n",
    "b. Get an integer input for the number variable.\n",
    "c. Create an integer variable sum with initial value 0.\n",
    "d. Create a while loop to access each digit of the number.\n",
    "e. Inside the loop, add each digit of the number to sum.\n",
    "f. Check if the number is perfectly divisible by the sum.\n",
    "g. If the number is divisible by the sum, print Harshad Number. Otherwise, print Not a Harshad Number."
   ]
  },
  {
   "cell_type": "code",
   "execution_count": 16,
   "id": "159eae1f",
   "metadata": {},
   "outputs": [
    {
     "name": "stdout",
     "output_type": "stream",
     "text": [
      "Enter the number: 19\n",
      "19 is not a Harshad Number.\n"
     ]
    }
   ],
   "source": [
    "number = int(input(\"Enter the number: \"))\n",
    "sum_of_digits = 0\n",
    "original_number = number\n",
    "\n",
    "while number != 0:\n",
    "    digit = number % 10  # Get the last digit\n",
    "    sum_of_digits += digit\n",
    "    number //= 10  # Remove the last digit\n",
    "\n",
    "# Check if the original number is divisible by the sum of its digits\n",
    "if original_number % sum_of_digits == 0:\n",
    "    print(f\"{original_number} is a Harshad Number.\")\n",
    "else:\n",
    "    print(f\"{original_number} is not a Harshad Number.\")\n"
   ]
  },
  {
   "cell_type": "markdown",
   "id": "7e4acfa3",
   "metadata": {},
   "source": [
    "4. Create a program to check if a number is an Abundant Number.\n",
    "Hint =>\n",
    "a. An abundant number is an integer in which the sum of all the divisors of the number is greater than the number itself. For example,\n",
    "Divisor of 12: 1, 2, 3, 4, 6\n",
    "    Sum of divisor: 1 + 2 + 3 + 4 + 6 = 16 > 12\n",
    "b. Get an integer input for the number variable.\n",
    "c. Create an integer variable sum with initial value 0.\n",
    "d. Run a for loop from i = 1 to i < number.\n",
    "e. Inside the loop, check if number is divisible by i.\n",
    "f. If true, add i to sum.\n",
    "g. Outside the loop Check if sum is greater than number.\n",
    "h. If the sum is greater than the number, print Abundant Number. Otherwise, print Not an Abundant Number."
   ]
  },
  {
   "cell_type": "code",
   "execution_count": 19,
   "id": "142504a7",
   "metadata": {},
   "outputs": [
    {
     "name": "stdout",
     "output_type": "stream",
     "text": [
      "Enter the number: 9\n",
      "Not Abundant Number\n"
     ]
    }
   ],
   "source": [
    "number = int(input(\"Enter the number: \"))\n",
    "sum_of_divisors = 0\n",
    "for i in range(1, number):\n",
    "    if number % i == 0:\n",
    "        sum_of_divisors += i\n",
    "if sum_of_divisors>number:\n",
    "    print(\"Abundant Number\")\n",
    "else:\n",
    "    print(\"Not Abundant Number\")\n"
   ]
  },
  {
   "cell_type": "markdown",
   "id": "b36e7f15",
   "metadata": {},
   "source": [
    "5. Write a program DayOfWeek that takes a date as input and prints the day of the week that the date falls on. Your program should take three command-line arguments: m (month), d (day), and y (year). For m use 1 for January, 2 for February, and so forth. For output print 0 for Sunday, 1 for Monday, 2 for Tuesday, and so forth. Use the following formulas, for the Gregorian calendar (where / denotes integer division):\n",
    "    y0 = y − (14 − m) / 12 x = y0 + y0/4 − y0/100 + y0/400 m0 = m + 12 × ((14 − m) / 12) − 2 d0 = (d + x + 31m0 / 12) mod 7    "
   ]
  },
  {
   "cell_type": "code",
   "execution_count": null,
   "id": "af78e590",
   "metadata": {},
   "outputs": [],
   "source": [
    "class DayOfWeek:\n",
    "    def main():\n",
    "        date = int(input(\"enter the value: \"))\n",
    "            "
   ]
  },
  {
   "cell_type": "markdown",
   "id": "85df829d",
   "metadata": {},
   "source": [
    "6. Write a program to create a calculator using switch...case.\n",
    "Hint =>\n",
    "a. Create two double variables named first and second and a String variable named op.\n",
    "b. Get input values for all variables.\n",
    "c. The input for the operator can only be one of the four values: \"+\", \"-\", \"*\" or \"/\".\n",
    "d. Run a for loop from i = 1 to i < number. e. Based on the input value of the op, perform specific operations using the switch...case statement and print the result.\n",
    "f. If op is +, perform addition between first and second; if it is -, perform subtraction and so on.\n",
    "g. If op is neither of those 4 values, print Invalid Operator."
   ]
  },
  {
   "cell_type": "code",
   "execution_count": 26,
   "id": "8ee11dcd",
   "metadata": {},
   "outputs": [
    {
     "name": "stdout",
     "output_type": "stream",
     "text": [
      "Enter the first number: 10\n",
      "Enter the second number: 5\n",
      "Enter the operator (+, -, *, /): ^\n",
      "Invalid Operator. Please use one of the following: +, -, *, /.\n"
     ]
    }
   ],
   "source": [
    "class calculator:\n",
    "    def main():\n",
    "        first = float(input(\"Enter the first number: \"))\n",
    "        second = float(input(\"Enter the second number: \"))\n",
    "        op = input(\"Enter the operator (+, -, *, /): \")\n",
    "        \n",
    "        if op == \"+\":\n",
    "            result = first + second\n",
    "            print(f\"The result of {first} + {second} is {result}\")\n",
    "        elif op == \"-\":\n",
    "            result = first - second\n",
    "            print(f\"The result of {first} - {second} is {result}\")\n",
    "        elif op == \"*\":\n",
    "            result = first * second\n",
    "            print(f\"The result of {first} * {second} is {result}\")\n",
    "        elif op == \"/\":\n",
    "            if second != 0:  # Check for division by zero\n",
    "                result = first / second\n",
    "                print(f\"The result of {first} / {second} is {result}\")\n",
    "            else:\n",
    "                print(\"Division by zero is not allowed.\")\n",
    "        else:\n",
    "            print(\"Invalid Operator. Please use one of the following: +, -, *, /.\")\n",
    "\n",
    "# Call the calculator function\n",
    "calculator.main()"
   ]
  },
  {
   "cell_type": "code",
   "execution_count": null,
   "id": "41fda3bf",
   "metadata": {},
   "outputs": [],
   "source": []
  },
  {
   "cell_type": "code",
   "execution_count": null,
   "id": "6615ec92",
   "metadata": {},
   "outputs": [],
   "source": []
  },
  {
   "cell_type": "code",
   "execution_count": null,
   "id": "32d43302",
   "metadata": {},
   "outputs": [],
   "source": []
  }
 ],
 "metadata": {
  "kernelspec": {
   "display_name": "Python 3 (ipykernel)",
   "language": "python",
   "name": "python3"
  },
  "language_info": {
   "codemirror_mode": {
    "name": "ipython",
    "version": 3
   },
   "file_extension": ".py",
   "mimetype": "text/x-python",
   "name": "python",
   "nbconvert_exporter": "python",
   "pygments_lexer": "ipython3",
   "version": "3.11.5"
  }
 },
 "nbformat": 4,
 "nbformat_minor": 5
}
