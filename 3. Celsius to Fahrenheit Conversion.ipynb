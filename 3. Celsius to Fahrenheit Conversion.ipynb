{
 "cells": [
  {
   "cell_type": "code",
   "execution_count": 1,
   "id": "7ff77831",
   "metadata": {},
   "outputs": [],
   "source": [
    "#Write a program that takes the temperature in Celsius as input and converts\n",
    "#it to Fahrenheit using the formula:"
   ]
  },
  {
   "cell_type": "code",
   "execution_count": 3,
   "id": "2b7921f4",
   "metadata": {},
   "outputs": [
    {
     "name": "stdout",
     "output_type": "stream",
     "text": [
      "30.5\n",
      "86.9\n"
     ]
    }
   ],
   "source": [
    "celsius = float(input())\n",
    "fahrenheit= (celsius * 9/5) + 32\n",
    "print(fahrenheit)"
   ]
  },
  {
   "cell_type": "code",
   "execution_count": null,
   "id": "ebf5cc37",
   "metadata": {},
   "outputs": [],
   "source": []
  }
 ],
 "metadata": {
  "kernelspec": {
   "display_name": "Python 3 (ipykernel)",
   "language": "python",
   "name": "python3"
  },
  "language_info": {
   "codemirror_mode": {
    "name": "ipython",
    "version": 3
   },
   "file_extension": ".py",
   "mimetype": "text/x-python",
   "name": "python",
   "nbconvert_exporter": "python",
   "pygments_lexer": "ipython3",
   "version": "3.11.5"
  }
 },
 "nbformat": 4,
 "nbformat_minor": 5
}
