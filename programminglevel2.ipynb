{
 "cells": [
  {
   "cell_type": "markdown",
   "id": "903a7c71",
   "metadata": {},
   "source": [
    "1. Write a program to take 2 numbers and print their quotient and reminder\n",
    "Hint => Use division operator (/) for quotient and moduli operator (%) for reminder\n",
    "I/P => number1, number2\n",
    "O/P => The Quotient is ___ and Reminder is ___ of two number ___ and ___`"
   ]
  },
  {
   "cell_type": "code",
   "execution_count": 3,
   "id": "84d0d72f",
   "metadata": {},
   "outputs": [
    {
     "name": "stdout",
     "output_type": "stream",
     "text": [
      "enter the first no.: 2\n",
      "enter the second no.: 3\n",
      "The Quotient is 0.67 and Reminder is 2 of two number 2 and 3\n"
     ]
    }
   ],
   "source": [
    "class Printqtn:\n",
    "    def main():\n",
    "        num1 = int(input(\"enter the first no.: \"))\n",
    "        num2 = int(input(\"enter the second no.: \"))\n",
    "        quotient = num1/num2\n",
    "        reminder = num1%num2\n",
    "        print(f\"The Quotient is {quotient:.2f} and Reminder is {reminder} of two number {num1} and {num2}\")\n",
    "Printqtn.main()        \n"
   ]
  },
  {
   "cell_type": "markdown",
   "id": "d2e397d4",
   "metadata": {},
   "source": [
    "2. Write an IntOperation program by taking a, b, and c as input values and print the following integer operations a + b *c, a * b + c,c + a / b, and a % b + c. Please also understand the precedence of the operators.\n",
    "Hint =>\n",
    "a. Create variables a, b, c of int data type.\n",
    "b. Take user input for a, b, and c.\n",
    "c. Compute 3 integer operations and assign result to a variable\n",
    "d. Finally print the result and try to understand operator precedence.\n",
    "O/P => The results of Int Operations are —-, -—, and —-"
   ]
  },
  {
   "cell_type": "code",
   "execution_count": 5,
   "id": "7af779f7",
   "metadata": {},
   "outputs": [
    {
     "name": "stdout",
     "output_type": "stream",
     "text": [
      "enter the value of a: 2\n",
      "enter the value of b: 3\n",
      "enter the value of c: 4\n",
      "The results of Int Operations are 14 , 10 ,4.67 and 6\n"
     ]
    }
   ],
   "source": [
    "class IntOperation:\n",
    "    def main():\n",
    "        a = int(input(\"enter the value of a: \"))\n",
    "        b = int(input(\"enter the value of b: \"))\n",
    "        c = int(input(\"enter the value of c: \"))\n",
    "        print(f\"The results of Int Operations are {a+b*c} , {a*b+c} ,{(c+a/b):.2f} and {a%b+c}\")\n",
    "        \n",
    "IntOperation.main()"
   ]
  },
  {
   "cell_type": "markdown",
   "id": "5a783ef8",
   "metadata": {},
   "source": [
    "4. Write a TemperaturConversion program, given the temperature in Celsius as input outputs the temperature in Fahrenheit\n",
    "Hint => a. Create a celsius variable and take the temperature as user input b. Use the Formulae Celsius to Fahrenheit: (°C × 9/5) + 32 = °F and assign to farenheitResult and print the result\n",
    "I/P => celcius\n",
    "O/P => The ____ celsius is _____ fahrenheit"
   ]
  },
  {
   "cell_type": "code",
   "execution_count": 8,
   "id": "15e632aa",
   "metadata": {},
   "outputs": [
    {
     "name": "stdout",
     "output_type": "stream",
     "text": [
      "enter the temperature in Celsius: 35\n",
      "The 35.0 celsius is 95.0 fahrenheit\n"
     ]
    }
   ],
   "source": [
    "class TemperaturConversion:\n",
    "    def main():\n",
    "        celsius = float(input(\"enter the temperature in Celsius: \"))\n",
    "        Fahrenheit = (celsius * 9/5) + 32\n",
    "        print(f\"The {celsius} celsius is {Fahrenheit} fahrenheit\")\n",
    "        \n",
    "TemperaturConversion.main()\n",
    "        \n",
    "        "
   ]
  },
  {
   "cell_type": "markdown",
   "id": "58eafbc2",
   "metadata": {},
   "source": [
    "5. Write a TemperaturConversion program, given the temperature in Fahrenheit as input outputs the temperature in Celsius\n",
    "Hint => c. Create a fahrenheit variable and take the user's input d. User the formulae to convert Fahrenheit to Celsius: (°F − 32) x 5/9 = °C and assign the result to celsiusResult and print the result\n",
    "I/P => fahrenheit\n",
    "O/P => The ____ fahrenheit is _____ celsius"
   ]
  },
  {
   "cell_type": "code",
   "execution_count": 10,
   "id": "644d2bda",
   "metadata": {},
   "outputs": [
    {
     "name": "stdout",
     "output_type": "stream",
     "text": [
      "enter the value of temp in fahrenheit: 35\n",
      "The 35 fahrenheit is 1.67 celsius\n"
     ]
    }
   ],
   "source": [
    "class TemperaturConversion:\n",
    "    def main():\n",
    "        fahrenheit = int(input(\"enter the value of temp in fahrenheit: \"))\n",
    "        celsius = (fahrenheit - 32) * 5/9\n",
    "        print(f\"The {fahrenheit} fahrenheit is {celsius:.2f} celsius\")\n",
    "        \n",
    "TemperaturConversion.main()"
   ]
  },
  {
   "cell_type": "markdown",
   "id": "0e30e1e8",
   "metadata": {},
   "source": [
    "6. Create a program to find the total income of a person by taking salary and bonus from user\n",
    "Hint =>\n",
    "a. Create a variable named salary and take user input.\n",
    "b. Create another variable bonus and take user input.\n",
    "c. Compute income by adding salary and bonus and print the result\n",
    "I/P => salary, bonus\n",
    "O/P => The salary is INR ___ and bonus is INR ___. Hence Total Income is INR ___"
   ]
  },
  {
   "cell_type": "code",
   "execution_count": 11,
   "id": "4fae47c4",
   "metadata": {},
   "outputs": [
    {
     "name": "stdout",
     "output_type": "stream",
     "text": [
      "enter the salary: 250000\n",
      "enter the bonus: 3500\n",
      "The salary is INR 250000 and bonus is INR 3500. Hence Total Income is INR 253500\n"
     ]
    }
   ],
   "source": [
    "class Totalincome:\n",
    "    def main():\n",
    "        salary = int(input(\"enter the salary: \"))\n",
    "        bonus = int(input(\"enter the bonus: \"))\n",
    "        income = salary + bonus \n",
    "        print(f\"The salary is INR {salary} and bonus is INR {bonus}. Hence Total Income is INR {income}\")\n",
    "        \n",
    "Totalincome.main()"
   ]
  },
  {
   "cell_type": "markdown",
   "id": "51b55968",
   "metadata": {},
   "source": [
    "7. Create a program to swap two numbers\n",
    "Hint =>\n",
    "a. Create a variable number1 and take user input.\n",
    "b. Create a variable number2 and take user input.\n",
    "c. Swap number1 and number2 and print the swapped output\n",
    "I/P => number1, number2\n",
    "O/P => The swapped numbers are ___ and ___"
   ]
  },
  {
   "cell_type": "code",
   "execution_count": 12,
   "id": "dce1f472",
   "metadata": {},
   "outputs": [
    {
     "name": "stdout",
     "output_type": "stream",
     "text": [
      "enter the first no.: 2\n",
      "enter the first no.: 3\n",
      "The swapped numbers are 3 and 2\n"
     ]
    }
   ],
   "source": [
    "class Swap:\n",
    "    def main():\n",
    "        number1 = int(input(\"enter the first no.: \"))\n",
    "        number2 = int(input(\"enter the first no.: \"))\n",
    "        temp = number1\n",
    "        number1 = number2\n",
    "        number2 = temp\n",
    "        print(f\"The swapped numbers are {number1} and {number2}\")\n",
    "        \n",
    "Swap.main()\n",
    "        \n",
    "        "
   ]
  },
  {
   "cell_type": "markdown",
   "id": "c4cf92b3",
   "metadata": {},
   "source": [
    "8. Rewrite the Sample Program 2 with user inputs\n",
    "Hint =>\n",
    "a. Create variables and take user inputs for name, fromCity, viaCity, toCity\n",
    "b. Create variables and take user inputs for distances fromToVia and viaToFinalCity in Miles\n",
    "c. Create Variables and take time taken\n",
    "d. Finally, print the result and try to understand operator precedence."
   ]
  },
  {
   "cell_type": "code",
   "execution_count": 15,
   "id": "9d9f581a",
   "metadata": {},
   "outputs": [
    {
     "name": "stdout",
     "output_type": "stream",
     "text": [
      "enter the name: Neha\n",
      "enter the fromCity: BHOPAL\n",
      "enter the viaCity: DELHI\n",
      "enter the toCity: BIHAR\n",
      "enter the DistancesfromToVia: 3500\n",
      "enter the viaToFinalCity: 1500\n",
      "enter the time for FromToVia: 20000\n",
      "enter the time for ViaToFinalCity: 45000\n",
      "The total distance travelled by Neha from BHOPAL to BIHAR via DELHI is 5000.0km and time taken is 65000 minutes\n"
     ]
    }
   ],
   "source": [
    "class TravelComputation:\n",
    "    def main():\n",
    "        name = input(\"enter the name: \")\n",
    "        fromCity= input(\"enter the fromCity: \")\n",
    "        viaCity =input(\"enter the viaCity: \")\n",
    "        toCity = input(\"enter the toCity: \")\n",
    "        \n",
    "        distancesFromToVia = float(input(\"enter the DistancesfromToVia: \"))\n",
    "        distancesViaToFinalCity = float(input(\"enter the viaToFinalCity: \"))\n",
    "        \n",
    "        timeFromToVia = int(input(\"enter the time for FromToVia: \"))\n",
    "        timeViaToFinalCity = int(input(\"enter the time for ViaToFinalCity: \"))\n",
    "        \n",
    "        total_distance = distancesFromToVia + distancesViaToFinalCity\n",
    "        total_time = timeFromToVia + timeViaToFinalCity\n",
    "        \n",
    "        print(f\"The total distance travelled by {name} from {fromCity} to {toCity} via {viaCity} is {total_distance}km and time taken is {total_time} minutes\")\n",
    "        \n",
    "TravelComputation.main()"
   ]
  },
  {
   "cell_type": "markdown",
   "id": "1b3401c1",
   "metadata": {},
   "source": [
    "9. An athlete runs in a triangular park with sides provided as input by the user in meters. If the athlete wants to complete a 5 km run, then how many rounds must the athlete complete\n",
    "Hint => The perimeter of a triangle is the addition of all sides and rounds is distance/perimeter\n",
    "I/P => side1, side2, side3\n",
    "O/P => The total number of rounds the athlete will run is ___ to complete 5 km"
   ]
  },
  {
   "cell_type": "code",
   "execution_count": 4,
   "id": "c51c3fe7",
   "metadata": {},
   "outputs": [
    {
     "name": "stdout",
     "output_type": "stream",
     "text": [
      "enter the side1: 2\n",
      "enter the side2: 3\n",
      "enter the side3: 4\n",
      "The total number of rounds the athlete will run is 555.56 to complete 5 km\n"
     ]
    }
   ],
   "source": [
    "class Rounds :\n",
    "    def main():\n",
    "        side1 = int(input(\"enter the side1: \"))\n",
    "        side2 = int(input(\"enter the side2: \"))\n",
    "        side3 = int(input(\"enter the side3: \"))\n",
    "        \n",
    "        perimeter = side1+side2+side3\n",
    "        numberOfRounds = 5000/perimeter\n",
    "        print(f\"The total number of rounds the athlete will run is {numberOfRounds:.2f} to complete 5 km\")\n",
    "        \n",
    "Rounds.main()"
   ]
  },
  {
   "cell_type": "markdown",
   "id": "1995370b",
   "metadata": {},
   "source": [
    "11. Write a program to input the Principal, Rate, and Time values and calculate Simple Interest.\n",
    "Hint => Simple Interest = Principal * Rate * Time / 100\n",
    "I/P => principal, rate, time\n",
    "O/P => The Simple Interest is ___ for Principal ___, Rate of Interest ___ and Time ___"
   ]
  },
  {
   "cell_type": "code",
   "execution_count": 5,
   "id": "833d3b57",
   "metadata": {},
   "outputs": [
    {
     "name": "stdout",
     "output_type": "stream",
     "text": [
      "Enter the Principal amount: 15000\n",
      "Enter the Rate of Interest: 500\n",
      "Enter the Time period (in years): 3\n",
      "The Simple Interest is 225000.0 for Principal 15000.0, Rate of Interest 500.0, and Time 3.0 years.\n"
     ]
    }
   ],
   "source": [
    "def calculate_simple_interest():\n",
    "    principal = float(input(\"Enter the Principal amount: \"))\n",
    "    rate = float(input(\"Enter the Rate of Interest: \"))\n",
    "    time = float(input(\"Enter the Time period (in years): \"))\n",
    "    simple_interest = (principal * rate * time) / 100\n",
    "    print(f\"The Simple Interest is {simple_interest} for Principal {principal}, Rate of Interest {rate}, and Time {time} years.\")\n",
    "    \n",
    "calculate_simple_interest()"
   ]
  },
  {
   "cell_type": "markdown",
   "id": "557a9287",
   "metadata": {},
   "source": [
    "12. Create a program to convert weight in pounds to kilograms.\n",
    "Hint => 1 pound = 2.2 kg\n",
    "I/P => weight\n",
    "O/P => The weight of the person in pound is ___ and in kg is ___"
   ]
  },
  {
   "cell_type": "code",
   "execution_count": 6,
   "id": "228b6f1f",
   "metadata": {},
   "outputs": [
    {
     "name": "stdout",
     "output_type": "stream",
     "text": [
      "Enter the weight in pounds: 50\n",
      "The weight of the person in pounds is 50.0 and in kilograms is 110.00.\n"
     ]
    }
   ],
   "source": [
    "def convert_weight():\n",
    "    weight_pounds = float(input(\"Enter the weight in pounds: \"))\n",
    "    weight_kg = weight_pounds * 2.2\n",
    "    print(f\"The weight of the person in pounds is {weight_pounds} and in kilograms is {weight_kg:.2f}.\")\n",
    "    \n",
    "convert_weight()"
   ]
  },
  {
   "cell_type": "code",
   "execution_count": null,
   "id": "96edb1ae",
   "metadata": {},
   "outputs": [],
   "source": []
  }
 ],
 "metadata": {
  "kernelspec": {
   "display_name": "Python 3 (ipykernel)",
   "language": "python",
   "name": "python3"
  },
  "language_info": {
   "codemirror_mode": {
    "name": "ipython",
    "version": 3
   },
   "file_extension": ".py",
   "mimetype": "text/x-python",
   "name": "python",
   "nbconvert_exporter": "python",
   "pygments_lexer": "ipython3",
   "version": "3.11.5"
  }
 },
 "nbformat": 4,
 "nbformat_minor": 5
}
